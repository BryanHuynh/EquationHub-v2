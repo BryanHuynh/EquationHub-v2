{
 "cells": [
  {
   "cell_type": "code",
   "execution_count": 42,
   "metadata": {},
   "outputs": [
    {
     "data": {
      "text/plain": [
       "[y_{2} - 4]"
      ]
     },
     "execution_count": 42,
     "metadata": {},
     "output_type": "execute_result"
    }
   ],
   "source": [
    "from sympy import *\n",
    "from sympy.parsing.latex import parse_latex\n",
    "\n",
    "# save this latex equation to a variable\n",
    "# m = \\frac{(y_2 - y_1)}{(x_2 - x_1)}\n",
    "# x_1, x_2, y_1, y_2 = symbols('x_1 x_2 y_1 y_2')\n",
    "m = symbols('m')\n",
    "\n",
    "expr = parse_latex(r'm = \\frac{(y_{2} - y_{1})}{(x_{2} - x_{1})}')\n",
    "\n",
    "res_expr = expr.subs([('x_{1}', '2'), ('x_{2}', '3'), ('y_{1}', '4')])\n",
    "solve(res_expr, m)\n",
    "\n",
    "\n"
   ]
  }
 ],
 "metadata": {
  "kernelspec": {
   "display_name": "Python 3",
   "language": "python",
   "name": "python3"
  },
  "language_info": {
   "codemirror_mode": {
    "name": "ipython",
    "version": 3
   },
   "file_extension": ".py",
   "mimetype": "text/x-python",
   "name": "python",
   "nbconvert_exporter": "python",
   "pygments_lexer": "ipython3",
   "version": "3.11.2"
  },
  "orig_nbformat": 4
 },
 "nbformat": 4,
 "nbformat_minor": 2
}
